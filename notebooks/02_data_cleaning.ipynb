{
 "cells": [
  {
   "cell_type": "markdown",
   "id": "4592f22e",
   "metadata": {},
   "source": [
    "# 02 – Data Cleaning: Handling Missing Values & Fixing Inconsistencies\n",
    "\n",
    "\n",
    "This notebook covers the data cleaning steps on the training dataset.  \n",
    "\n",
    "We handle selected missing values, resolve inconsistencies, and save a cleaned version of the dataset for use in feature engineering and modeling in later notebooks.\n"
   ]
  },
  {
   "cell_type": "code",
   "execution_count": 1,
   "id": "5bf85966",
   "metadata": {},
   "outputs": [],
   "source": [
    "import pandas as pd\n",
    "import numpy as np"
   ]
  },
  {
   "cell_type": "code",
   "execution_count": 2,
   "id": "5ed77b5d",
   "metadata": {},
   "outputs": [],
   "source": [
    "data = pd.read_csv(\"../data/raw/train.csv\")"
   ]
  },
  {
   "cell_type": "code",
   "execution_count": 3,
   "id": "0b1080e7",
   "metadata": {},
   "outputs": [
    {
     "data": {
      "text/html": [
       "<div>\n",
       "<style scoped>\n",
       "    .dataframe tbody tr th:only-of-type {\n",
       "        vertical-align: middle;\n",
       "    }\n",
       "\n",
       "    .dataframe tbody tr th {\n",
       "        vertical-align: top;\n",
       "    }\n",
       "\n",
       "    .dataframe thead th {\n",
       "        text-align: right;\n",
       "    }\n",
       "</style>\n",
       "<table border=\"1\" class=\"dataframe\">\n",
       "  <thead>\n",
       "    <tr style=\"text-align: right;\">\n",
       "      <th></th>\n",
       "      <th>Id</th>\n",
       "      <th>MSSubClass</th>\n",
       "      <th>MSZoning</th>\n",
       "      <th>LotFrontage</th>\n",
       "      <th>LotArea</th>\n",
       "      <th>Street</th>\n",
       "      <th>Alley</th>\n",
       "      <th>LotShape</th>\n",
       "      <th>LandContour</th>\n",
       "      <th>Utilities</th>\n",
       "      <th>...</th>\n",
       "      <th>PoolArea</th>\n",
       "      <th>PoolQC</th>\n",
       "      <th>Fence</th>\n",
       "      <th>MiscFeature</th>\n",
       "      <th>MiscVal</th>\n",
       "      <th>MoSold</th>\n",
       "      <th>YrSold</th>\n",
       "      <th>SaleType</th>\n",
       "      <th>SaleCondition</th>\n",
       "      <th>SalePrice</th>\n",
       "    </tr>\n",
       "  </thead>\n",
       "  <tbody>\n",
       "    <tr>\n",
       "      <th>0</th>\n",
       "      <td>1</td>\n",
       "      <td>60</td>\n",
       "      <td>RL</td>\n",
       "      <td>65.0</td>\n",
       "      <td>8450</td>\n",
       "      <td>Pave</td>\n",
       "      <td>NaN</td>\n",
       "      <td>Reg</td>\n",
       "      <td>Lvl</td>\n",
       "      <td>AllPub</td>\n",
       "      <td>...</td>\n",
       "      <td>0</td>\n",
       "      <td>NaN</td>\n",
       "      <td>NaN</td>\n",
       "      <td>NaN</td>\n",
       "      <td>0</td>\n",
       "      <td>2</td>\n",
       "      <td>2008</td>\n",
       "      <td>WD</td>\n",
       "      <td>Normal</td>\n",
       "      <td>208500</td>\n",
       "    </tr>\n",
       "    <tr>\n",
       "      <th>1</th>\n",
       "      <td>2</td>\n",
       "      <td>20</td>\n",
       "      <td>RL</td>\n",
       "      <td>80.0</td>\n",
       "      <td>9600</td>\n",
       "      <td>Pave</td>\n",
       "      <td>NaN</td>\n",
       "      <td>Reg</td>\n",
       "      <td>Lvl</td>\n",
       "      <td>AllPub</td>\n",
       "      <td>...</td>\n",
       "      <td>0</td>\n",
       "      <td>NaN</td>\n",
       "      <td>NaN</td>\n",
       "      <td>NaN</td>\n",
       "      <td>0</td>\n",
       "      <td>5</td>\n",
       "      <td>2007</td>\n",
       "      <td>WD</td>\n",
       "      <td>Normal</td>\n",
       "      <td>181500</td>\n",
       "    </tr>\n",
       "    <tr>\n",
       "      <th>2</th>\n",
       "      <td>3</td>\n",
       "      <td>60</td>\n",
       "      <td>RL</td>\n",
       "      <td>68.0</td>\n",
       "      <td>11250</td>\n",
       "      <td>Pave</td>\n",
       "      <td>NaN</td>\n",
       "      <td>IR1</td>\n",
       "      <td>Lvl</td>\n",
       "      <td>AllPub</td>\n",
       "      <td>...</td>\n",
       "      <td>0</td>\n",
       "      <td>NaN</td>\n",
       "      <td>NaN</td>\n",
       "      <td>NaN</td>\n",
       "      <td>0</td>\n",
       "      <td>9</td>\n",
       "      <td>2008</td>\n",
       "      <td>WD</td>\n",
       "      <td>Normal</td>\n",
       "      <td>223500</td>\n",
       "    </tr>\n",
       "    <tr>\n",
       "      <th>3</th>\n",
       "      <td>4</td>\n",
       "      <td>70</td>\n",
       "      <td>RL</td>\n",
       "      <td>60.0</td>\n",
       "      <td>9550</td>\n",
       "      <td>Pave</td>\n",
       "      <td>NaN</td>\n",
       "      <td>IR1</td>\n",
       "      <td>Lvl</td>\n",
       "      <td>AllPub</td>\n",
       "      <td>...</td>\n",
       "      <td>0</td>\n",
       "      <td>NaN</td>\n",
       "      <td>NaN</td>\n",
       "      <td>NaN</td>\n",
       "      <td>0</td>\n",
       "      <td>2</td>\n",
       "      <td>2006</td>\n",
       "      <td>WD</td>\n",
       "      <td>Abnorml</td>\n",
       "      <td>140000</td>\n",
       "    </tr>\n",
       "    <tr>\n",
       "      <th>4</th>\n",
       "      <td>5</td>\n",
       "      <td>60</td>\n",
       "      <td>RL</td>\n",
       "      <td>84.0</td>\n",
       "      <td>14260</td>\n",
       "      <td>Pave</td>\n",
       "      <td>NaN</td>\n",
       "      <td>IR1</td>\n",
       "      <td>Lvl</td>\n",
       "      <td>AllPub</td>\n",
       "      <td>...</td>\n",
       "      <td>0</td>\n",
       "      <td>NaN</td>\n",
       "      <td>NaN</td>\n",
       "      <td>NaN</td>\n",
       "      <td>0</td>\n",
       "      <td>12</td>\n",
       "      <td>2008</td>\n",
       "      <td>WD</td>\n",
       "      <td>Normal</td>\n",
       "      <td>250000</td>\n",
       "    </tr>\n",
       "  </tbody>\n",
       "</table>\n",
       "<p>5 rows × 81 columns</p>\n",
       "</div>"
      ],
      "text/plain": [
       "   Id  MSSubClass MSZoning  LotFrontage  LotArea Street Alley LotShape  \\\n",
       "0   1          60       RL         65.0     8450   Pave   NaN      Reg   \n",
       "1   2          20       RL         80.0     9600   Pave   NaN      Reg   \n",
       "2   3          60       RL         68.0    11250   Pave   NaN      IR1   \n",
       "3   4          70       RL         60.0     9550   Pave   NaN      IR1   \n",
       "4   5          60       RL         84.0    14260   Pave   NaN      IR1   \n",
       "\n",
       "  LandContour Utilities  ... PoolArea PoolQC Fence MiscFeature MiscVal MoSold  \\\n",
       "0         Lvl    AllPub  ...        0    NaN   NaN         NaN       0      2   \n",
       "1         Lvl    AllPub  ...        0    NaN   NaN         NaN       0      5   \n",
       "2         Lvl    AllPub  ...        0    NaN   NaN         NaN       0      9   \n",
       "3         Lvl    AllPub  ...        0    NaN   NaN         NaN       0      2   \n",
       "4         Lvl    AllPub  ...        0    NaN   NaN         NaN       0     12   \n",
       "\n",
       "  YrSold  SaleType  SaleCondition  SalePrice  \n",
       "0   2008        WD         Normal     208500  \n",
       "1   2007        WD         Normal     181500  \n",
       "2   2008        WD         Normal     223500  \n",
       "3   2006        WD        Abnorml     140000  \n",
       "4   2008        WD         Normal     250000  \n",
       "\n",
       "[5 rows x 81 columns]"
      ]
     },
     "execution_count": 3,
     "metadata": {},
     "output_type": "execute_result"
    }
   ],
   "source": [
    "data.head()"
   ]
  },
  {
   "cell_type": "code",
   "execution_count": 4,
   "id": "d3fccbe9",
   "metadata": {
    "scrolled": true
   },
   "outputs": [
    {
     "name": "stdout",
     "output_type": "stream",
     "text": [
      "<class 'pandas.core.frame.DataFrame'>\n",
      "RangeIndex: 1460 entries, 0 to 1459\n",
      "Data columns (total 81 columns):\n",
      " #   Column         Non-Null Count  Dtype  \n",
      "---  ------         --------------  -----  \n",
      " 0   Id             1460 non-null   int64  \n",
      " 1   MSSubClass     1460 non-null   int64  \n",
      " 2   MSZoning       1460 non-null   object \n",
      " 3   LotFrontage    1201 non-null   float64\n",
      " 4   LotArea        1460 non-null   int64  \n",
      " 5   Street         1460 non-null   object \n",
      " 6   Alley          91 non-null     object \n",
      " 7   LotShape       1460 non-null   object \n",
      " 8   LandContour    1460 non-null   object \n",
      " 9   Utilities      1460 non-null   object \n",
      " 10  LotConfig      1460 non-null   object \n",
      " 11  LandSlope      1460 non-null   object \n",
      " 12  Neighborhood   1460 non-null   object \n",
      " 13  Condition1     1460 non-null   object \n",
      " 14  Condition2     1460 non-null   object \n",
      " 15  BldgType       1460 non-null   object \n",
      " 16  HouseStyle     1460 non-null   object \n",
      " 17  OverallQual    1460 non-null   int64  \n",
      " 18  OverallCond    1460 non-null   int64  \n",
      " 19  YearBuilt      1460 non-null   int64  \n",
      " 20  YearRemodAdd   1460 non-null   int64  \n",
      " 21  RoofStyle      1460 non-null   object \n",
      " 22  RoofMatl       1460 non-null   object \n",
      " 23  Exterior1st    1460 non-null   object \n",
      " 24  Exterior2nd    1460 non-null   object \n",
      " 25  MasVnrType     1452 non-null   object \n",
      " 26  MasVnrArea     1452 non-null   float64\n",
      " 27  ExterQual      1460 non-null   object \n",
      " 28  ExterCond      1460 non-null   object \n",
      " 29  Foundation     1460 non-null   object \n",
      " 30  BsmtQual       1423 non-null   object \n",
      " 31  BsmtCond       1423 non-null   object \n",
      " 32  BsmtExposure   1422 non-null   object \n",
      " 33  BsmtFinType1   1423 non-null   object \n",
      " 34  BsmtFinSF1     1460 non-null   int64  \n",
      " 35  BsmtFinType2   1422 non-null   object \n",
      " 36  BsmtFinSF2     1460 non-null   int64  \n",
      " 37  BsmtUnfSF      1460 non-null   int64  \n",
      " 38  TotalBsmtSF    1460 non-null   int64  \n",
      " 39  Heating        1460 non-null   object \n",
      " 40  HeatingQC      1460 non-null   object \n",
      " 41  CentralAir     1460 non-null   object \n",
      " 42  Electrical     1459 non-null   object \n",
      " 43  1stFlrSF       1460 non-null   int64  \n",
      " 44  2ndFlrSF       1460 non-null   int64  \n",
      " 45  LowQualFinSF   1460 non-null   int64  \n",
      " 46  GrLivArea      1460 non-null   int64  \n",
      " 47  BsmtFullBath   1460 non-null   int64  \n",
      " 48  BsmtHalfBath   1460 non-null   int64  \n",
      " 49  FullBath       1460 non-null   int64  \n",
      " 50  HalfBath       1460 non-null   int64  \n",
      " 51  BedroomAbvGr   1460 non-null   int64  \n",
      " 52  KitchenAbvGr   1460 non-null   int64  \n",
      " 53  KitchenQual    1460 non-null   object \n",
      " 54  TotRmsAbvGrd   1460 non-null   int64  \n",
      " 55  Functional     1460 non-null   object \n",
      " 56  Fireplaces     1460 non-null   int64  \n",
      " 57  FireplaceQu    770 non-null    object \n",
      " 58  GarageType     1379 non-null   object \n",
      " 59  GarageYrBlt    1379 non-null   float64\n",
      " 60  GarageFinish   1379 non-null   object \n",
      " 61  GarageCars     1460 non-null   int64  \n",
      " 62  GarageArea     1460 non-null   int64  \n",
      " 63  GarageQual     1379 non-null   object \n",
      " 64  GarageCond     1379 non-null   object \n",
      " 65  PavedDrive     1460 non-null   object \n",
      " 66  WoodDeckSF     1460 non-null   int64  \n",
      " 67  OpenPorchSF    1460 non-null   int64  \n",
      " 68  EnclosedPorch  1460 non-null   int64  \n",
      " 69  3SsnPorch      1460 non-null   int64  \n",
      " 70  ScreenPorch    1460 non-null   int64  \n",
      " 71  PoolArea       1460 non-null   int64  \n",
      " 72  PoolQC         7 non-null      object \n",
      " 73  Fence          281 non-null    object \n",
      " 74  MiscFeature    54 non-null     object \n",
      " 75  MiscVal        1460 non-null   int64  \n",
      " 76  MoSold         1460 non-null   int64  \n",
      " 77  YrSold         1460 non-null   int64  \n",
      " 78  SaleType       1460 non-null   object \n",
      " 79  SaleCondition  1460 non-null   object \n",
      " 80  SalePrice      1460 non-null   int64  \n",
      "dtypes: float64(3), int64(35), object(43)\n",
      "memory usage: 924.0+ KB\n"
     ]
    }
   ],
   "source": [
    "data.info()"
   ]
  },
  {
   "cell_type": "code",
   "execution_count": 5,
   "id": "39683642",
   "metadata": {
    "scrolled": true
   },
   "outputs": [
    {
     "data": {
      "text/plain": [
       "PoolQC          1453\n",
       "MiscFeature     1406\n",
       "Alley           1369\n",
       "Fence           1179\n",
       "FireplaceQu      690\n",
       "LotFrontage      259\n",
       "GarageType        81\n",
       "GarageYrBlt       81\n",
       "GarageFinish      81\n",
       "GarageQual        81\n",
       "GarageCond        81\n",
       "BsmtExposure      38\n",
       "BsmtFinType2      38\n",
       "BsmtFinType1      37\n",
       "BsmtCond          37\n",
       "BsmtQual          37\n",
       "MasVnrArea         8\n",
       "MasVnrType         8\n",
       "Electrical         1\n",
       "dtype: int64"
      ]
     },
     "execution_count": 5,
     "metadata": {},
     "output_type": "execute_result"
    }
   ],
   "source": [
    "data.isnull().sum()[data.isnull().sum() > 0].sort_values(ascending=False)"
   ]
  },
  {
   "cell_type": "markdown",
   "id": "b6ed7538",
   "metadata": {},
   "source": [
    "## Insights\n",
    "\n",
    "These features have some missing values. To decide how to handle them, we first need to check whether they are **categorical** or **numerical**.\n",
    "\n",
    "We also examined whether some features are unnecessary or difficult to fill.\n",
    "\n",
    "Most of the missing values are related to **Garage** and **Basement** features. So we began by analyzing those.\n",
    "\n",
    "There are **81 missing values** in the garage-related columns. This means **81 houses have no garage**. We will fill these values with **\"No Garage\"** to avoid problems during modeling.\n",
    "\n",
    "Some basement-related features like **BsmtQual** and **BsmtCond** have **37 missing values**, which likely means **37 houses have no basement**. These values will be filled with **\"NoBsmt\"**.\n",
    "\n",
    "However, **BsmtFinType2** and **BsmtExposure** have **38 missing values**, indicating that **one house has a basement**, but specific information is missing. In this case, we will use **\"Unknown\"** instead of **\"NoBsmt\"**.\n",
    "\n",
    "The **Masonry veneer** and **Electrical** features contain a small number of missing values. Since they are categorical variables, we will review them individually and handle missing or inconsistent data accordingly.\n",
    "\n",
    "**LotFrontage** has **259 missing values**. Because it depends on location, we filled it using the **median LotFrontage within each neighborhood**.\n",
    "\n",
    "Some features like **PoolQC**, **MiscFeature**, and **Alley** have many missing values. This does not indicate an issue — it simply means **most houses do not have these features**. For example, if there is no pool, **PoolQC** is left blank. We will later fill these missing values with **\"None\"** or similar labels.\n",
    "\n"
   ]
  },
  {
   "cell_type": "markdown",
   "id": "d8de28ac",
   "metadata": {},
   "source": [
    "While examining **masonry veneer** related variables, some inconsistent situations were encountered:"
   ]
  },
  {
   "cell_type": "code",
   "execution_count": 6,
   "id": "4d22b895",
   "metadata": {},
   "outputs": [
    {
     "data": {
      "text/plain": [
       "None       864\n",
       "BrkFace    445\n",
       "Stone      128\n",
       "BrkCmn      15\n",
       "NaN          8\n",
       "Name: MasVnrType, dtype: int64"
      ]
     },
     "execution_count": 6,
     "metadata": {},
     "output_type": "execute_result"
    }
   ],
   "source": [
    "# Check for missing values in MasVnrType and how many are None or NaN\n",
    "data['MasVnrType'].value_counts(dropna=False)"
   ]
  },
  {
   "cell_type": "code",
   "execution_count": 7,
   "id": "7a074e91",
   "metadata": {},
   "outputs": [
    {
     "data": {
      "text/plain": [
       "0.0      861\n",
       "NaN        8\n",
       "72.0       8\n",
       "108.0      8\n",
       "180.0      8\n",
       "        ... \n",
       "562.0      1\n",
       "89.0       1\n",
       "921.0      1\n",
       "762.0      1\n",
       "119.0      1\n",
       "Name: MasVnrArea, Length: 328, dtype: int64"
      ]
     },
     "execution_count": 7,
     "metadata": {},
     "output_type": "execute_result"
    }
   ],
   "source": [
    "# Check for missing values in MasVnrArea and how many are None or NaN\n",
    "data['MasVnrArea'].value_counts(dropna=False)"
   ]
  },
  {
   "cell_type": "markdown",
   "id": "6bc69733",
   "metadata": {},
   "source": [
    "There are **861** rows with a **MasVnrArea** value of **0.0**, and **8 missing values** in this column.  \n",
    "In contrast, the **MasVnrType** column contains **864** entries labeled as **\"None\"**, along with **8 missing values**.\n"
   ]
  },
  {
   "cell_type": "code",
   "execution_count": 8,
   "id": "4dc4cf80",
   "metadata": {},
   "outputs": [
    {
     "data": {
      "text/html": [
       "<div>\n",
       "<style scoped>\n",
       "    .dataframe tbody tr th:only-of-type {\n",
       "        vertical-align: middle;\n",
       "    }\n",
       "\n",
       "    .dataframe tbody tr th {\n",
       "        vertical-align: top;\n",
       "    }\n",
       "\n",
       "    .dataframe thead th {\n",
       "        text-align: right;\n",
       "    }\n",
       "</style>\n",
       "<table border=\"1\" class=\"dataframe\">\n",
       "  <thead>\n",
       "    <tr style=\"text-align: right;\">\n",
       "      <th></th>\n",
       "      <th>Id</th>\n",
       "      <th>MasVnrType</th>\n",
       "      <th>MasVnrArea</th>\n",
       "    </tr>\n",
       "  </thead>\n",
       "  <tbody>\n",
       "    <tr>\n",
       "      <th>234</th>\n",
       "      <td>235</td>\n",
       "      <td>NaN</td>\n",
       "      <td>NaN</td>\n",
       "    </tr>\n",
       "    <tr>\n",
       "      <th>529</th>\n",
       "      <td>530</td>\n",
       "      <td>NaN</td>\n",
       "      <td>NaN</td>\n",
       "    </tr>\n",
       "    <tr>\n",
       "      <th>650</th>\n",
       "      <td>651</td>\n",
       "      <td>NaN</td>\n",
       "      <td>NaN</td>\n",
       "    </tr>\n",
       "    <tr>\n",
       "      <th>936</th>\n",
       "      <td>937</td>\n",
       "      <td>NaN</td>\n",
       "      <td>NaN</td>\n",
       "    </tr>\n",
       "    <tr>\n",
       "      <th>973</th>\n",
       "      <td>974</td>\n",
       "      <td>NaN</td>\n",
       "      <td>NaN</td>\n",
       "    </tr>\n",
       "    <tr>\n",
       "      <th>977</th>\n",
       "      <td>978</td>\n",
       "      <td>NaN</td>\n",
       "      <td>NaN</td>\n",
       "    </tr>\n",
       "    <tr>\n",
       "      <th>1243</th>\n",
       "      <td>1244</td>\n",
       "      <td>NaN</td>\n",
       "      <td>NaN</td>\n",
       "    </tr>\n",
       "    <tr>\n",
       "      <th>1278</th>\n",
       "      <td>1279</td>\n",
       "      <td>NaN</td>\n",
       "      <td>NaN</td>\n",
       "    </tr>\n",
       "  </tbody>\n",
       "</table>\n",
       "</div>"
      ],
      "text/plain": [
       "        Id MasVnrType  MasVnrArea\n",
       "234    235        NaN         NaN\n",
       "529    530        NaN         NaN\n",
       "650    651        NaN         NaN\n",
       "936    937        NaN         NaN\n",
       "973    974        NaN         NaN\n",
       "977    978        NaN         NaN\n",
       "1243  1244        NaN         NaN\n",
       "1278  1279        NaN         NaN"
      ]
     },
     "execution_count": 8,
     "metadata": {},
     "output_type": "execute_result"
    }
   ],
   "source": [
    "data[data['MasVnrArea'].isnull()][['Id', 'MasVnrType', 'MasVnrArea']]"
   ]
  },
  {
   "cell_type": "markdown",
   "id": "5e7828ff",
   "metadata": {},
   "source": [
    "We filled the rows where both **MasVnrType** and **MasVnrArea** were missing by assigning them the values **\"None\"** and **0.0**, respectively.  \n",
    "This approach assumes that these houses do not have any masonry veneer."
   ]
  },
  {
   "cell_type": "code",
   "execution_count": 9,
   "id": "61ce4d46",
   "metadata": {},
   "outputs": [],
   "source": [
    "data.loc[data['MasVnrArea'].isnull(), 'MasVnrType'] = 'None'\n",
    "data.loc[data['MasVnrArea'].isnull(), 'MasVnrArea'] = 0.0"
   ]
  },
  {
   "cell_type": "markdown",
   "id": "72a7e6cc",
   "metadata": {},
   "source": [
    "As it seems, the missing values in both features correspond to each other.  \n",
    "However, there might be an issue with the rows where **MasVnrArea** is **0.0** while **MasVnrType** is labeled as **\"None\"**.  \n",
    "We need to examine whether these values are logically consistent."
   ]
  },
  {
   "cell_type": "code",
   "execution_count": 10,
   "id": "21ec8b18",
   "metadata": {},
   "outputs": [
    {
     "data": {
      "text/html": [
       "<div>\n",
       "<style scoped>\n",
       "    .dataframe tbody tr th:only-of-type {\n",
       "        vertical-align: middle;\n",
       "    }\n",
       "\n",
       "    .dataframe tbody tr th {\n",
       "        vertical-align: top;\n",
       "    }\n",
       "\n",
       "    .dataframe thead th {\n",
       "        text-align: right;\n",
       "    }\n",
       "</style>\n",
       "<table border=\"1\" class=\"dataframe\">\n",
       "  <thead>\n",
       "    <tr style=\"text-align: right;\">\n",
       "      <th></th>\n",
       "      <th>Id</th>\n",
       "      <th>MasVnrType</th>\n",
       "      <th>MasVnrArea</th>\n",
       "    </tr>\n",
       "  </thead>\n",
       "  <tbody>\n",
       "    <tr>\n",
       "      <th>624</th>\n",
       "      <td>625</td>\n",
       "      <td>None</td>\n",
       "      <td>288.0</td>\n",
       "    </tr>\n",
       "    <tr>\n",
       "      <th>773</th>\n",
       "      <td>774</td>\n",
       "      <td>None</td>\n",
       "      <td>1.0</td>\n",
       "    </tr>\n",
       "    <tr>\n",
       "      <th>1230</th>\n",
       "      <td>1231</td>\n",
       "      <td>None</td>\n",
       "      <td>1.0</td>\n",
       "    </tr>\n",
       "    <tr>\n",
       "      <th>1300</th>\n",
       "      <td>1301</td>\n",
       "      <td>None</td>\n",
       "      <td>344.0</td>\n",
       "    </tr>\n",
       "    <tr>\n",
       "      <th>1334</th>\n",
       "      <td>1335</td>\n",
       "      <td>None</td>\n",
       "      <td>312.0</td>\n",
       "    </tr>\n",
       "  </tbody>\n",
       "</table>\n",
       "</div>"
      ],
      "text/plain": [
       "        Id MasVnrType  MasVnrArea\n",
       "624    625       None       288.0\n",
       "773    774       None         1.0\n",
       "1230  1231       None         1.0\n",
       "1300  1301       None       344.0\n",
       "1334  1335       None       312.0"
      ]
     },
     "execution_count": 10,
     "metadata": {},
     "output_type": "execute_result"
    }
   ],
   "source": [
    "data[(data['MasVnrType'] == 'None') & (data['MasVnrArea'] != 0.0)][['Id', 'MasVnrType', 'MasVnrArea']]"
   ]
  },
  {
   "cell_type": "markdown",
   "id": "beb8b438",
   "metadata": {},
   "source": [
    "We found several inconsistent rows where **MasVnrType** was labeled as **\"None\"**,  \n",
    "but **MasVnrArea** had a non-zero value. This situation is not logically valid,  \n",
    "since a non-zero area implies that there is some type of masonry veneer.\n",
    "\n",
    "To correct this:\n",
    "\n",
    "- For rows with **MasVnrType = \"None\"** and a **large area (> 50)**,  \n",
    "  we assumed the veneer type was most likely **\"BrkFace\"**, which is the most common.\n",
    "\n",
    "- For rows with **very small area values (≤ 1)** and **type = \"None\"**,  \n",
    "  we assumed these were likely entry errors and replaced the area with **0.0**.\n"
   ]
  },
  {
   "cell_type": "code",
   "execution_count": 11,
   "id": "cc3ddf7a",
   "metadata": {},
   "outputs": [],
   "source": [
    "big_area = (data['MasVnrType'] == 'None') & (data['MasVnrArea'] > 50)\n",
    "data.loc[big_area, 'MasVnrType'] = 'BrkFace' \n",
    "\n",
    "small_area = (data['MasVnrType'] == 'None') & (data['MasVnrArea'] <= 1)\n",
    "data.loc[small_area, 'MasVnrArea'] = 0.0"
   ]
  },
  {
   "cell_type": "code",
   "execution_count": 12,
   "id": "86ef2cbb",
   "metadata": {},
   "outputs": [
    {
     "data": {
      "text/html": [
       "<div>\n",
       "<style scoped>\n",
       "    .dataframe tbody tr th:only-of-type {\n",
       "        vertical-align: middle;\n",
       "    }\n",
       "\n",
       "    .dataframe tbody tr th {\n",
       "        vertical-align: top;\n",
       "    }\n",
       "\n",
       "    .dataframe thead th {\n",
       "        text-align: right;\n",
       "    }\n",
       "</style>\n",
       "<table border=\"1\" class=\"dataframe\">\n",
       "  <thead>\n",
       "    <tr style=\"text-align: right;\">\n",
       "      <th></th>\n",
       "      <th>Id</th>\n",
       "      <th>MasVnrType</th>\n",
       "      <th>MasVnrArea</th>\n",
       "    </tr>\n",
       "  </thead>\n",
       "  <tbody>\n",
       "    <tr>\n",
       "      <th>688</th>\n",
       "      <td>689</td>\n",
       "      <td>BrkFace</td>\n",
       "      <td>0.0</td>\n",
       "    </tr>\n",
       "    <tr>\n",
       "      <th>1241</th>\n",
       "      <td>1242</td>\n",
       "      <td>Stone</td>\n",
       "      <td>0.0</td>\n",
       "    </tr>\n",
       "  </tbody>\n",
       "</table>\n",
       "</div>"
      ],
      "text/plain": [
       "        Id MasVnrType  MasVnrArea\n",
       "688    689    BrkFace         0.0\n",
       "1241  1242      Stone         0.0"
      ]
     },
     "execution_count": 12,
     "metadata": {},
     "output_type": "execute_result"
    }
   ],
   "source": [
    "data[(data['MasVnrType'] != 'None') & (data['MasVnrArea'] == 0.0)][['Id', 'MasVnrType', 'MasVnrArea']]"
   ]
  },
  {
   "cell_type": "markdown",
   "id": "2d0ab6a8",
   "metadata": {},
   "source": [
    "We also identified two rows where **MasVnrType** had a defined veneer type (**\"BrkFace\"** and **\"Stone\"**), but the **MasVnrArea** was **0.0**. This is not logically consistent, as a valid veneer type implies the presence of some area.\n",
    "\n",
    "To correct this inconsistency, we filled these rows using the **mean MasVnrArea** calculated from all other rows that share the same veneer type and have non-zero areas.\n",
    "\n",
    "- The missing **BrkFace** area was filled with the mean of all non-zero BrkFace entries.\n",
    "- The same was done for **Stone**.\n"
   ]
  },
  {
   "cell_type": "code",
   "execution_count": 13,
   "id": "812777a4",
   "metadata": {},
   "outputs": [],
   "source": [
    "mean_brkface = data[(data['MasVnrType'] == 'BrkFace') & (data['MasVnrArea'] > 0)]['MasVnrArea'].mean()\n",
    "data.loc[(data['MasVnrType'] == 'BrkFace') & (data['MasVnrArea'] == 0), 'MasVnrArea'] = mean_brkface\n",
    "\n",
    "mean_stone = data[(data['MasVnrType'] == 'Stone') & (data['MasVnrArea'] > 0)]['MasVnrArea'].mean()\n",
    "data.loc[(data['MasVnrType'] == 'Stone') & (data['MasVnrArea'] == 0), 'MasVnrArea'] = mean_stone"
   ]
  },
  {
   "cell_type": "code",
   "execution_count": 14,
   "id": "b4defbf1",
   "metadata": {},
   "outputs": [
    {
     "data": {
      "text/plain": [
       "None       869\n",
       "BrkFace    448\n",
       "Stone      128\n",
       "BrkCmn      15\n",
       "Name: MasVnrType, dtype: int64"
      ]
     },
     "execution_count": 14,
     "metadata": {},
     "output_type": "execute_result"
    }
   ],
   "source": [
    "data['MasVnrType'].value_counts(dropna=False)"
   ]
  },
  {
   "cell_type": "code",
   "execution_count": 15,
   "id": "92c516ef",
   "metadata": {},
   "outputs": [],
   "source": [
    "data['LotFrontage'] = data.groupby('Neighborhood')['LotFrontage'].transform(lambda x: x.fillna(x.median()))"
   ]
  },
  {
   "cell_type": "code",
   "execution_count": 16,
   "id": "ee54fb5a",
   "metadata": {},
   "outputs": [],
   "source": [
    "mode_val = data['Electrical'].mode()[0]\n",
    "data['Electrical'].fillna(mode_val, inplace=True)"
   ]
  },
  {
   "cell_type": "code",
   "execution_count": 17,
   "id": "6ac82aed",
   "metadata": {},
   "outputs": [],
   "source": [
    "# We'll fill 'Unknown' only if the house has a basement (BsmtQual is not null)\n",
    "data.loc[(data['BsmtQual'].notnull()) & (data['BsmtExposure'].isnull()), 'BsmtExposure'] = 'Unknown'\n",
    "\n",
    "# Do the same for BsmtFinType2\n",
    "data.loc[(data['BsmtQual'].notnull()) & (data['BsmtFinType2'].isnull()), 'BsmtFinType2'] = 'Unknown'"
   ]
  },
  {
   "cell_type": "code",
   "execution_count": 18,
   "id": "a80af06d",
   "metadata": {},
   "outputs": [
    {
     "data": {
      "text/plain": [
       "No         953\n",
       "Av         221\n",
       "Gd         134\n",
       "Mn         114\n",
       "NaN         37\n",
       "Unknown      1\n",
       "Name: BsmtExposure, dtype: int64"
      ]
     },
     "execution_count": 18,
     "metadata": {},
     "output_type": "execute_result"
    }
   ],
   "source": [
    "data['BsmtExposure'].value_counts(dropna=False)"
   ]
  },
  {
   "cell_type": "markdown",
   "id": "e4bfe9b8",
   "metadata": {},
   "source": [
    "After completing the cleaning process for selected features, we can recheck the missing values to confirm the changes.\n"
   ]
  },
  {
   "cell_type": "code",
   "execution_count": 19,
   "id": "2652cbe9",
   "metadata": {},
   "outputs": [
    {
     "data": {
      "text/plain": [
       "MasVnrType     0\n",
       "MasVnrArea     0\n",
       "LotFrontage    0\n",
       "Electrical     0\n",
       "dtype: int64"
      ]
     },
     "execution_count": 19,
     "metadata": {},
     "output_type": "execute_result"
    }
   ],
   "source": [
    "# Check remaining missing values\n",
    "data[[\"MasVnrType\", \"MasVnrArea\", \"LotFrontage\", \"Electrical\"]].isnull().sum()"
   ]
  },
  {
   "cell_type": "markdown",
   "id": "8e598bfd",
   "metadata": {},
   "source": [
    "All targeted features have been cleaned successfully. No missing values remain in:\n",
    "- MasVnrType\n",
    "- MasVnrArea\n",
    "- Electrical\n",
    "- LotFrontage\n"
   ]
  },
  {
   "cell_type": "code",
   "execution_count": 21,
   "id": "6019d634",
   "metadata": {},
   "outputs": [
    {
     "data": {
      "text/plain": [
       "PoolQC          1453\n",
       "MiscFeature     1406\n",
       "Alley           1369\n",
       "Fence           1179\n",
       "FireplaceQu      690\n",
       "GarageType        81\n",
       "GarageYrBlt       81\n",
       "GarageFinish      81\n",
       "GarageQual        81\n",
       "GarageCond        81\n",
       "BsmtQual          37\n",
       "BsmtCond          37\n",
       "BsmtExposure      37\n",
       "BsmtFinType1      37\n",
       "BsmtFinType2      37\n",
       "dtype: int64"
      ]
     },
     "execution_count": 21,
     "metadata": {},
     "output_type": "execute_result"
    }
   ],
   "source": [
    "data.isnull().sum()[data.isnull().sum() > 0].sort_values(ascending=False)"
   ]
  },
  {
   "cell_type": "markdown",
   "id": "efb43f4a",
   "metadata": {},
   "source": [
    "The remaining missing values belong to features like **Garage** and **Basement**, which will be handled later before modeling.\n"
   ]
  },
  {
   "cell_type": "code",
   "execution_count": 20,
   "id": "fc46d030",
   "metadata": {},
   "outputs": [],
   "source": [
    "df_cleaned = data.copy()\n",
    "df_cleaned.to_csv('../data/processed/train_cleaned.csv', index=False)"
   ]
  },
  {
   "cell_type": "code",
   "execution_count": null,
   "id": "35a52e26",
   "metadata": {},
   "outputs": [],
   "source": []
  }
 ],
 "metadata": {
  "kernelspec": {
   "display_name": "Python 3 (ipykernel)",
   "language": "python",
   "name": "python3"
  },
  "language_info": {
   "codemirror_mode": {
    "name": "ipython",
    "version": 3
   },
   "file_extension": ".py",
   "mimetype": "text/x-python",
   "name": "python",
   "nbconvert_exporter": "python",
   "pygments_lexer": "ipython3",
   "version": "3.9.13"
  }
 },
 "nbformat": 4,
 "nbformat_minor": 5
}
